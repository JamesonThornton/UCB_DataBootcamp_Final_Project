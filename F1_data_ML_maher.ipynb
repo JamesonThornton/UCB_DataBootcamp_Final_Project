{
 "cells": [
  {
   "cell_type": "code",
   "execution_count": 20,
   "id": "fb19e493",
   "metadata": {},
   "outputs": [],
   "source": [
    "import pandas as pd\n",
    "import psycopg2\n",
    "from psycopg2 import sql\n",
    "import os\n",
    "from getpass import getpass"
   ]
  },
  {
   "cell_type": "code",
   "execution_count": 21,
   "id": "452db11e",
   "metadata": {},
   "outputs": [
    {
     "name": "stdout",
     "output_type": "stream",
     "text": [
      "Enter database password········\n"
     ]
    }
   ],
   "source": [
    "PGEND_POINT = 'f1stats.cos0zhtpa15v.us-east-1.rds.amazonaws.com' # End_point\n",
    "PGDATABASE_NAME = 'F1_stats' # Database name\n",
    "PGUSER_NAME = 'postgres' # UserName\n",
    "PGPASSWORD = getpass('Enter database password')"
   ]
  },
  {
   "cell_type": "code",
   "execution_count": 22,
   "id": "a44b0a07",
   "metadata": {},
   "outputs": [],
   "source": [
    "def connect():\n",
    "    \n",
    "    # Set up a connection to the postgres server.\n",
    "    conn_string = \"host=\"+ PGEND_POINT +\" port=\"+ \"5432\" +\" dbname=\"+ PGDATABASE_NAME +\" user=\" + PGUSER_NAME \\\n",
    "                  +\" password=\"+ PGPASSWORD\n",
    "    \n",
    "    conn = psycopg2.connect(conn_string)\n",
    "    print(\"Connected!\")\n",
    "\n",
    "    # Create a cursor object\n",
    "    cursor = conn.cursor()\n",
    "    \n",
    "    return conn, cursor"
   ]
  },
  {
   "cell_type": "code",
   "execution_count": 23,
   "id": "9020a536",
   "metadata": {},
   "outputs": [
    {
     "name": "stdout",
     "output_type": "stream",
     "text": [
      "Connected!\n"
     ]
    }
   ],
   "source": [
    "conn, cursor = connect()"
   ]
  },
  {
   "cell_type": "code",
   "execution_count": 24,
   "id": "bf62c9a0",
   "metadata": {},
   "outputs": [],
   "source": [
    "circuits = sql.SQL(\"\"\"SELECT * FROM circuits\"\"\");\n",
    "driver_stnd = sql.SQL(\"\"\"SELECT * FROM driver_stnd\"\"\");\n",
    "drivers = sql.SQL(\"\"\"SELECT * FROM drivers\"\"\");\n",
    "lap_times = sql.SQL(\"\"\"SELECT * FROM lap_times\"\"\");\n",
    "pit_stops = sql.SQL(\"\"\"SELECT * FROM pit_stops\"\"\");\n",
    "quali = sql.SQL(\"\"\"SELECT * FROM quali\"\"\");\n",
    "results = sql.SQL(\"\"\"SELECT * FROM results\"\"\");\n",
    "sprint_rslt = sql.SQL(\"\"\"SELECT * FROM sprint_rslt\"\"\");\n",
    "status = sql.SQL(\"\"\"SELECT * FROM status\"\"\");"
   ]
  },
  {
   "cell_type": "code",
   "execution_count": 31,
   "id": "e6bd1f7a",
   "metadata": {},
   "outputs": [
    {
     "name": "stdout",
     "output_type": "stream",
     "text": [
      "[(1, 'albert_park', 'Albert Park Grand Prix Circuit'), (2, 'sepang', 'Sepang International Circuit'), (3, 'bahrain', 'Bahrain International Circuit'), (4, 'catalunya', 'Circuit de Barcelona-Catalunya'), (5, 'istanbul', 'Istanbul Park'), (6, 'monaco', 'Circuit de Monaco'), (7, 'villeneuve', 'Circuit Gilles Villeneuve'), (8, 'magny_cours', 'Circuit de Nevers Magny-Cours'), (9, 'silverstone', 'Silverstone Circuit'), (10, 'hockenheimring', 'Hockenheimring'), (11, 'hungaroring', 'Hungaroring'), (12, 'valencia', 'Valencia Street Circuit'), (13, 'spa', 'Circuit de Spa-Francorchamps'), (14, 'monza', 'Autodromo Nazionale di Monza'), (15, 'marina_bay', 'Marina Bay Street Circuit'), (16, 'fuji', 'Fuji Speedway'), (17, 'shanghai', 'Shanghai International Circuit'), (18, 'interlagos', 'Autódromo José Carlos Pace'), (19, 'indianapolis', 'Indianapolis Motor Speedway'), (20, 'nurburgring', 'Nürburgring'), (21, 'imola', 'Autodromo Enzo e Dino Ferrari'), (22, 'suzuka', 'Suzuka Circuit'), (24, 'yas_marina', 'Yas Marina Circuit'), (25, 'galvez', 'Autódromo Juan y Oscar Gálvez'), (26, 'jerez', 'Circuito de Jerez'), (27, 'estoril', 'Autódromo do Estoril'), (28, 'okayama', 'Okayama International Circuit'), (29, 'adelaide', 'Adelaide Street Circuit'), (30, 'kyalami', 'Kyalami'), (31, 'donington', 'Donington Park'), (32, 'rodriguez', 'Autódromo Hermanos Rodríguez'), (33, 'phoenix', 'Phoenix street circuit'), (34, 'ricard', 'Circuit Paul Ricard'), (35, 'yeongam', 'Korean International Circuit'), (36, 'jacarepagua', 'Autódromo Internacional Nelson Piquet'), (37, 'detroit', 'Detroit Street Circuit'), (38, 'brands_hatch', 'Brands Hatch'), (39, 'zandvoort', 'Circuit Park Zandvoort'), (40, 'zolder', 'Zolder'), (41, 'dijon', 'Dijon-Prenois'), (42, 'dallas', 'Fair Park'), (43, 'long_beach', 'Long Beach'), (44, 'las_vegas', 'Las Vegas Street Circuit'), (45, 'jarama', 'Jarama'), (46, 'watkins_glen', 'Watkins Glen'), (47, 'anderstorp', 'Scandinavian Raceway'), (48, 'mosport', 'Mosport International Raceway'), (49, 'montjuic', 'Montjuïc'), (50, 'nivelles', 'Nivelles-Baulers'), (51, 'charade', 'Charade Circuit'), (52, 'tremblant', 'Circuit Mont-Tremblant'), (53, 'essarts', 'Rouen-Les-Essarts'), (54, 'lemans', 'Le Mans'), (55, 'reims', 'Reims-Gueux'), (56, 'george', 'Prince George Circuit'), (57, 'zeltweg', 'Zeltweg'), (58, 'aintree', 'Aintree'), (59, 'boavista', 'Circuito da Boavista'), (60, 'riverside', 'Riverside International Raceway'), (61, 'avus', 'AVUS'), (62, 'monsanto', 'Monsanto Park Circuit'), (63, 'sebring', 'Sebring International Raceway'), (64, 'ain-diab', 'Ain Diab'), (65, 'pescara', 'Pescara Circuit'), (66, 'bremgarten', 'Circuit Bremgarten'), (67, 'pedralbes', 'Circuit de Pedralbes'), (68, 'buddh', 'Buddh International Circuit'), (69, 'americas', 'Circuit of the Americas'), (70, 'red_bull_ring', 'Red Bull Ring'), (71, 'sochi', 'Sochi Autodrom'), (73, 'baku', 'Baku City Circuit'), (75, 'portimao', 'Autódromo Internacional do Algarve'), (76, 'mugello', 'Autodromo Internazionale del Mugello'), (77, 'jeddah', 'Jeddah Corniche Circuit'), (78, 'losail', 'Losail International Circuit'), (79, 'miami', 'Miami International Autodrome')]\n"
     ]
    }
   ],
   "source": [
    "cur = conn.cursor()\n",
    "cur.execute(circuits)\n",
    "print(cur.fetchall())"
   ]
  },
  {
   "cell_type": "code",
   "execution_count": 32,
   "id": "931228ca",
   "metadata": {},
   "outputs": [],
   "source": [
    "cur = conn.cursor()\n",
    "cur.execute(circuits)"
   ]
  },
  {
   "cell_type": "code",
   "execution_count": 33,
   "id": "6f39d785",
   "metadata": {},
   "outputs": [
    {
     "data": {
      "text/html": [
       "<div>\n",
       "<style scoped>\n",
       "    .dataframe tbody tr th:only-of-type {\n",
       "        vertical-align: middle;\n",
       "    }\n",
       "\n",
       "    .dataframe tbody tr th {\n",
       "        vertical-align: top;\n",
       "    }\n",
       "\n",
       "    .dataframe thead th {\n",
       "        text-align: right;\n",
       "    }\n",
       "</style>\n",
       "<table border=\"1\" class=\"dataframe\">\n",
       "  <thead>\n",
       "    <tr style=\"text-align: right;\">\n",
       "      <th></th>\n",
       "      <th>circuitId</th>\n",
       "      <th>circuitRef</th>\n",
       "      <th>circ_name</th>\n",
       "    </tr>\n",
       "  </thead>\n",
       "  <tbody>\n",
       "    <tr>\n",
       "      <th>0</th>\n",
       "      <td>1</td>\n",
       "      <td>albert_park</td>\n",
       "      <td>Albert Park Grand Prix Circuit</td>\n",
       "    </tr>\n",
       "    <tr>\n",
       "      <th>1</th>\n",
       "      <td>2</td>\n",
       "      <td>sepang</td>\n",
       "      <td>Sepang International Circuit</td>\n",
       "    </tr>\n",
       "    <tr>\n",
       "      <th>2</th>\n",
       "      <td>3</td>\n",
       "      <td>bahrain</td>\n",
       "      <td>Bahrain International Circuit</td>\n",
       "    </tr>\n",
       "    <tr>\n",
       "      <th>3</th>\n",
       "      <td>4</td>\n",
       "      <td>catalunya</td>\n",
       "      <td>Circuit de Barcelona-Catalunya</td>\n",
       "    </tr>\n",
       "    <tr>\n",
       "      <th>4</th>\n",
       "      <td>5</td>\n",
       "      <td>istanbul</td>\n",
       "      <td>Istanbul Park</td>\n",
       "    </tr>\n",
       "  </tbody>\n",
       "</table>\n",
       "</div>"
      ],
      "text/plain": [
       "   circuitId   circuitRef                       circ_name\n",
       "0          1  albert_park  Albert Park Grand Prix Circuit\n",
       "1          2       sepang    Sepang International Circuit\n",
       "2          3      bahrain   Bahrain International Circuit\n",
       "3          4    catalunya  Circuit de Barcelona-Catalunya\n",
       "4          5     istanbul                   Istanbul Park"
      ]
     },
     "execution_count": 33,
     "metadata": {},
     "output_type": "execute_result"
    }
   ],
   "source": [
    "circuit_df = pd.DataFrame(cur.fetchall(), columns=['circuitId', 'circuitRef', 'circ_name'])\n",
    "circuit_df.head()"
   ]
  },
  {
   "cell_type": "code",
   "execution_count": 34,
   "id": "a877d1d2",
   "metadata": {
    "scrolled": true
   },
   "outputs": [],
   "source": [
    "cur = conn.cursor()\n",
    "cur.execute(driver_stnd)"
   ]
  },
  {
   "cell_type": "code",
   "execution_count": 35,
   "id": "54157591",
   "metadata": {},
   "outputs": [
    {
     "data": {
      "text/html": [
       "<div>\n",
       "<style scoped>\n",
       "    .dataframe tbody tr th:only-of-type {\n",
       "        vertical-align: middle;\n",
       "    }\n",
       "\n",
       "    .dataframe tbody tr th {\n",
       "        vertical-align: top;\n",
       "    }\n",
       "\n",
       "    .dataframe thead th {\n",
       "        text-align: right;\n",
       "    }\n",
       "</style>\n",
       "<table border=\"1\" class=\"dataframe\">\n",
       "  <thead>\n",
       "    <tr style=\"text-align: right;\">\n",
       "      <th></th>\n",
       "      <th>driverId</th>\n",
       "      <th>raceId</th>\n",
       "      <th>points</th>\n",
       "      <th>position</th>\n",
       "      <th>wins</th>\n",
       "    </tr>\n",
       "  </thead>\n",
       "  <tbody>\n",
       "    <tr>\n",
       "      <th>0</th>\n",
       "      <td>1</td>\n",
       "      <td>18</td>\n",
       "      <td>10</td>\n",
       "      <td>1</td>\n",
       "      <td>1</td>\n",
       "    </tr>\n",
       "    <tr>\n",
       "      <th>1</th>\n",
       "      <td>2</td>\n",
       "      <td>18</td>\n",
       "      <td>8</td>\n",
       "      <td>2</td>\n",
       "      <td>0</td>\n",
       "    </tr>\n",
       "    <tr>\n",
       "      <th>2</th>\n",
       "      <td>3</td>\n",
       "      <td>18</td>\n",
       "      <td>6</td>\n",
       "      <td>3</td>\n",
       "      <td>0</td>\n",
       "    </tr>\n",
       "    <tr>\n",
       "      <th>3</th>\n",
       "      <td>4</td>\n",
       "      <td>18</td>\n",
       "      <td>5</td>\n",
       "      <td>4</td>\n",
       "      <td>0</td>\n",
       "    </tr>\n",
       "    <tr>\n",
       "      <th>4</th>\n",
       "      <td>5</td>\n",
       "      <td>18</td>\n",
       "      <td>4</td>\n",
       "      <td>5</td>\n",
       "      <td>0</td>\n",
       "    </tr>\n",
       "  </tbody>\n",
       "</table>\n",
       "</div>"
      ],
      "text/plain": [
       "   driverId  raceId points position  wins\n",
       "0         1      18     10        1     1\n",
       "1         2      18      8        2     0\n",
       "2         3      18      6        3     0\n",
       "3         4      18      5        4     0\n",
       "4         5      18      4        5     0"
      ]
     },
     "execution_count": 35,
     "metadata": {},
     "output_type": "execute_result"
    }
   ],
   "source": [
    "driver_stnd_df = pd.DataFrame(cur.fetchall(), columns=['driverId', 'raceId', 'points', 'position', 'wins'])\n",
    "driver_stnd_df.head()"
   ]
  },
  {
   "cell_type": "code",
   "execution_count": null,
   "id": "c8b73a41",
   "metadata": {},
   "outputs": [],
   "source": []
  }
 ],
 "metadata": {
  "kernelspec": {
   "display_name": "mlenv",
   "language": "python",
   "name": "mlenv"
  },
  "language_info": {
   "codemirror_mode": {
    "name": "ipython",
    "version": 3
   },
   "file_extension": ".py",
   "mimetype": "text/x-python",
   "name": "python",
   "nbconvert_exporter": "python",
   "pygments_lexer": "ipython3",
   "version": "3.7.15"
  }
 },
 "nbformat": 4,
 "nbformat_minor": 5
}
